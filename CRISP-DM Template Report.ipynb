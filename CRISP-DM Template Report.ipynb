{
  "nbformat": 4,
  "nbformat_minor": 0,
  "metadata": {
    "colab": {
      "provenance": [],
      "authorship_tag": "ABX9TyMkMxJdQXAr0rbYyssTQLJv",
      "include_colab_link": true
    },
    "kernelspec": {
      "name": "python3",
      "display_name": "Python 3"
    },
    "language_info": {
      "name": "python"
    }
  },
  "cells": [
    {
      "cell_type": "markdown",
      "metadata": {
        "id": "view-in-github",
        "colab_type": "text"
      },
      "source": [
        "<a href=\"https://colab.research.google.com/github/da3gal/ml-casebook/blob/main/CRISP-DM%20Template%20Report.ipynb\" target=\"_parent\"><img src=\"https://colab.research.google.com/assets/colab-badge.svg\" alt=\"Open In Colab\"/></a>"
      ]
    },
    {
      "cell_type": "markdown",
      "source": [
        "# title\n",
        "\n",
        "text\n",
        "* points"
      ],
      "metadata": {
        "id": "ennXl4LSikw9"
      }
    },
    {
      "cell_type": "markdown",
      "source": [
        "# 1. Business Understanding"
      ],
      "metadata": {
        "id": "jXhFtaDcRArI"
      }
    },
    {
      "cell_type": "markdown",
      "source": [
        "## 1.1. Business Objective"
      ],
      "metadata": {
        "id": "0dlCo6OuZHly"
      }
    },
    {
      "cell_type": "markdown",
      "source": [
        "### 1.1.1. Background\n",
        "\n",
        "xxx\n",
        "\n",
        "---\n",
        "\n",
        "Informasi yang diketahui tentang situasi bisnis dari klien. Berisi informasi\n",
        "bisnis, masalah, dan solusi saat ini.\n",
        "Contoh:\n",
        "* Sebuah perusahaan X bergerak di bidang …… dipimpin oleh…..dst\n",
        "* Masalah-masalah yang dihadapi yaitu: penjualan produk mengalami\n",
        "penurunan, banyak pelanggan yang tidak kembali, ……dst\n",
        "* Solusi yang sudah diterapkan: menambah promosi produk, tapi ini\n",
        "membutuhkan biaya yang tidak sedikit, dan tidak signifikan hasilnya…..dst"
      ],
      "metadata": {
        "id": "30220RGPlSij"
      }
    },
    {
      "cell_type": "markdown",
      "source": [
        "### 1.1.2. Business Objectives\n",
        "\n",
        "xxx\n",
        "\n",
        "---\n",
        "\n",
        "Tentukan tujuan utama yang ingin dicapai klien, dalam perspektif bisnis.\n",
        "Contoh:\n",
        "* Membuat pelanggan tidak beralih ke produk perusahaan lain\n",
        "* Membuat kebijakan yang sesuai keinginan rakyat\n",
        "* Menurunkan jumlah kasus korupsi di kalangan pejabat\n",
        "* Mengetahui karakteristik masyarakat pengguna media sosial\n",
        "* …..dll"
      ],
      "metadata": {
        "id": "h_fux3ZulgK8"
      }
    },
    {
      "cell_type": "markdown",
      "source": [
        "### 1.1.3. Business Success Criteria\n",
        "\n",
        "xxx\n",
        "\n",
        "---\n",
        "\n",
        "Kriteria yang menjadikan business objective dikatakan berhasil atau tidak.\n",
        "Spesifik dan bisa diukur.\n",
        "Contoh:\n",
        "* Customer retention rate > 90%\n",
        "* Jumlah protes kebijakan di media sosial berkurang 30%\n",
        "* Jumlah kasus korupsi berkurang 50%\n",
        "* Bidang HR dapat memahami karakteristik masyarakat.\n",
        "* Dll"
      ],
      "metadata": {
        "id": "fYmScDNNlmjh"
      }
    },
    {
      "cell_type": "markdown",
      "source": [
        "## 1.2. Assess Situation"
      ],
      "metadata": {
        "id": "hw6RP1EvaNuf"
      }
    },
    {
      "cell_type": "markdown",
      "source": [
        "### 1.2.1. Inventory of Resources\n",
        "\n",
        "xxx\n",
        "\n",
        "---\n",
        "\n",
        "Menjelaskan tentang sumber daya, batasan, asumsi, dan faktor-faktor lain\n",
        "yang bisa berpengaruh."
      ],
      "metadata": {
        "id": "h6cN5b9kltZJ"
      }
    },
    {
      "cell_type": "markdown",
      "source": [
        "### 1.2.2. Requirement, Assumptions, and Constraints\n",
        "\n",
        "xxx\n",
        "\n",
        "---\n",
        "\n",
        "Daftar kebutuhan, daftar asumsi, daftar batasan\n",
        " Contoh:\n",
        "* Kebutuhan: jadwal pelaksanaan, data yang dibutuhkan, sumber daya, dll\n",
        "* Asumsi: kualitas data (ketersediaan, akurasi, dll), faktor eksternal, dll\n",
        "* Batasan: dana, waktu, sumber daya, data, dll"
      ],
      "metadata": {
        "id": "CAjMSUkLmGfF"
      }
    },
    {
      "cell_type": "markdown",
      "source": [
        "### 1.2.3. Risks and Contingencies\n",
        "\n",
        "xxx\n",
        "\n",
        "---\n",
        "\n",
        "Daftar sumber daya yang tersedia untuk projek\n",
        "Contoh:\n",
        "* Daftar hardware yang tersedia (komputer, server, dll)\n",
        "* Sumber data dan pengetahuan (data apa saja yang dimiliki)\n",
        "* Sumber daya manusia (ekspertis yang tersedia, teknisi, dll)\n",
        "* Sumber dana\n",
        "* dll"
      ],
      "metadata": {
        "id": "ttmbQXkOlz8h"
      }
    },
    {
      "cell_type": "markdown",
      "source": [
        "### 1.2.4. Terminology\n",
        "\n",
        "xxx\n",
        "\n",
        "---\n",
        "\n",
        "Penjelasan tentang istilah-istilah bisnis (spesifik di klien) dan data science\n",
        "yang berkaitan dengan projek\n",
        "Contoh:\n",
        "* Bisnis (spesifik): churn rate adalah…., R-naught adalah….., dll\n",
        "* Data Science: MSE adalah…., regresi adalah…., recall adalah…..,dll"
      ],
      "metadata": {
        "id": "Y1h-n98ll5Hw"
      }
    },
    {
      "cell_type": "markdown",
      "source": [
        "### 1.2.5. Costs and Benefits\n",
        "\n",
        "| **No** | **Kegiatan**                          | **Alat**                | **Perkiraan Biaya Alat**   | **Biaya Pekerja**     | **Total Biaya**         | **Manfaat Terkait**                                         |\n",
        "|--------|---------------------------------------|-------------------------|-----------------------------|------------------------|--------------------------|-------------------------------------------------------------|\n",
        "| 1      | **Pengumpulan Data**                 | Database            | Rp 2.000.000                     | Rp 2.000.000           | Rp 5.200.000             | - Mempermudah perencanaan proyek.<br>- Memvisualisasikan timeline secara efektif. |\n",
        "|        |                                       | Microsoft Excel         | Rp 1.200.000 (lisensi)     |                        |                          | - Familiaritas pengguna mempercepat proses analisis.       |\n",
        "| 2      | **Pembersihan dan Pra-pemrosesan Data** | Google Colab Pro                | Rp. 200.000                      | Rp 1.500.000           | Rp 1.700.000             | - Meningkatkan efisiensi pembersihan data dan meminimalkan kesalahan manual. |\n",
        "|        |                                       | Microsoft Excel         |                             |                        |                          | - Alat analisis yang kuat dengan banyak fungsi built-in.   |\n",
        "| 3      | **Eksplorasi Data**                  | Microsoft Excel         |                             | Rp 2.000.000           | Rp 2.000.000             | - Memudahkan visualisasi dan analisis data awal.           |\n",
        "|        |                                       | Google Colab Pro                 |                             |                        |                          | - Fleksibilitas tinggi untuk analisis data kompleks.        |\n",
        "| 4      | **Analisis Deskriptif**              | Microsoft Excel         |                             | Rp 1.500.000           | Rp 1.500.000             | - Visualisasi yang jelas dan mendalam tentang variabel yang berpengaruh. |\n",
        "|        |                                       | Google Colab Pro                  |                             |                        |                          | - Mendapatkan wawasan yang lebih dalam mengenai data.       |\n",
        "| 5      | **Pengembangan Model Prediksi**      | Google Colab Pro                  |                             | Rp 2.500.000           | Rp 2.500.000             | - Model yang akurat dan dapat diandalkan untuk memprediksi harga berdasarkan fitur. |\n",
        "|        |                                       | Linear Regression       |                      |                        |                          | - Mudah dipahami dan cepat dalam pelatihan.                 |\n",
        "|        |                                       | Random Forest           |                       |                        |                          | - Mampu menangani data yang hilang dan fitur yang beragam.  |\n",
        "|        |                                       | Gradient Boosting       |                      |                        |                          | - Kinerja tinggi dalam kompetisi pemodelan.                |\n",
        "| 6      | **Validasi Model**                   | Google Colab Pro                  |                             | Rp 1.500.000           | Rp 1.500.000             | - Meningkatkan kepercayaan terhadap model yang dibangun.    |\n",
        "| 7      | **Pengembangan Laporan dan Presentasi** | Microsoft Word        | Rp 1.200.000 (lisensi)     | Rp 1.500.000           | Rp 2.700.000             | - Mempermudah penyampaian hasil analisis kepada pemangku kepentingan. |\n",
        "| 8      | **Monitoring dan Evaluasi**         |  Google Colab Pro          |                      | Rp 1.500.000           | Rp 1.500.000             | - Memudahkan evaluasi kinerja proyek dan hasil yang dicapai. |\n",
        "\n",
        "---\n",
        "\n",
        "### **Total Biaya Seluruh Kegiatan: Rp 18.600.000**"
      ],
      "metadata": {
        "id": "7L2mfo9zmSbv"
      }
    },
    {
      "cell_type": "markdown",
      "source": [
        "## 1.4. Produce Project Plan"
      ],
      "metadata": {
        "id": "Srdx1CJdbPTU"
      }
    },
    {
      "cell_type": "markdown",
      "source": [
        "### 1.4.1. Project Plan"
      ],
      "metadata": {
        "id": "4Xp7OrQubPyu"
      }
    },
    {
      "cell_type": "code",
      "source": [
        "data = {\n",
        "    \"No\": [1, 2, 3, 4, 5, 6, 7, 8],\n",
        "    \"Langkah Proyek\": [\n",
        "        \"Pengumpulan Data\",\n",
        "        \"Pembersihan dan Pra-pemrosesan Data\",\n",
        "        \"Eksplorasi Data\",\n",
        "        \"Analisis Deskriptif\",\n",
        "        \"Pengembangan Model Prediksi\",\n",
        "        \"Validasi Model\",\n",
        "        \"Pengembangan Laporan dan Presentasi\",\n",
        "        \"Monitoring dan Evaluasi\"\n",
        "    ],\n",
        "    \"Deskripsi\": [\n",
        "        \"Mengumpulkan data historis penjualan rumah, data pelanggan, dan data pasar.\",\n",
        "        \"Membersihkan data dari kesalahan dan mempersiapkan untuk analisis.\",\n",
        "        \"Melakukan analisis eksplorasi untuk memahami data dan menemukan pola.\",\n",
        "        \"Menganalisis faktor-faktor yang mempengaruhi harga rumah.\",\n",
        "        \"Membangun model regresi untuk memprediksi harga rumah.\",\n",
        "        \"Menguji dan memvalidasi model untuk memastikan akurasi.\",\n",
        "        \"Menyusun laporan hasil analisis dan presentasi untuk pemangku kepentingan.\",\n",
        "        \"Memantau hasil dari implementasi dan melakukan evaluasi berkala.\"\n",
        "    ],\n",
        "    \"Waktu (Minggu)\": [2, 1, 2, 1, 3, 1, 2, \"Berkelanjutan\"],\n",
        "    \"Sumber Daya yang Dibutuhkan\": [\n",
        "        \"Tim Data Scientist, akses ke database, alat ETL.\",\n",
        "        \"Tim Data Scientist, perangkat lunak pembersihan data.\",\n",
        "        \"Tim Data Scientist, perangkat lunak analisis data (Python/R).\",\n",
        "        \"Tim Data Scientist, alat visualisasi (Tableau/Power BI).\",\n",
        "        \"Tim Data Scientist, perangkat lunak pemodelan (Python/R).\",\n",
        "        \"Tim Data Scientist, data validasi, perangkat lunak analisis.\",\n",
        "        \"Tim Data Scientist, alat presentasi (PowerPoint/Google Slides).\",\n",
        "        \"Tim Data Scientist dan Tim Pemasaran.\"\n",
        "    ]\n",
        "}\n",
        "\n",
        "df_proyek = pd.DataFrame(data)\n",
        "df_proyek"
      ],
      "metadata": {
        "colab": {
          "base_uri": "https://localhost:8080/",
          "height": 300
        },
        "id": "MKrhIS8gRiR5",
        "outputId": "9c5783cf-68b1-4c88-dcaa-5d263be2c600"
      },
      "execution_count": null,
      "outputs": [
        {
          "output_type": "execute_result",
          "data": {
            "text/plain": [
              "   No                       Langkah Proyek  \\\n",
              "0   1                     Pengumpulan Data   \n",
              "1   2  Pembersihan dan Pra-pemrosesan Data   \n",
              "2   3                      Eksplorasi Data   \n",
              "3   4                  Analisis Deskriptif   \n",
              "4   5          Pengembangan Model Prediksi   \n",
              "5   6                       Validasi Model   \n",
              "6   7  Pengembangan Laporan dan Presentasi   \n",
              "7   8              Monitoring dan Evaluasi   \n",
              "\n",
              "                                           Deskripsi Waktu (Minggu)  \\\n",
              "0  Mengumpulkan data historis penjualan rumah, da...              2   \n",
              "1  Membersihkan data dari kesalahan dan mempersia...              1   \n",
              "2  Melakukan analisis eksplorasi untuk memahami d...              2   \n",
              "3  Menganalisis faktor-faktor yang mempengaruhi h...              1   \n",
              "4  Membangun model regresi untuk memprediksi harg...              3   \n",
              "5  Menguji dan memvalidasi model untuk memastikan...              1   \n",
              "6  Menyusun laporan hasil analisis dan presentasi...              2   \n",
              "7  Memantau hasil dari implementasi dan melakukan...  Berkelanjutan   \n",
              "\n",
              "                         Sumber Daya yang Dibutuhkan  \n",
              "0   Tim Data Scientist, akses ke database, alat ETL.  \n",
              "1  Tim Data Scientist, perangkat lunak pembersiha...  \n",
              "2  Tim Data Scientist, perangkat lunak analisis d...  \n",
              "3  Tim Data Scientist, alat visualisasi (Tableau/...  \n",
              "4  Tim Data Scientist, perangkat lunak pemodelan ...  \n",
              "5  Tim Data Scientist, data validasi, perangkat l...  \n",
              "6  Tim Data Scientist, alat presentasi (PowerPoin...  \n",
              "7              Tim Data Scientist dan Tim Pemasaran.  "
            ],
            "text/html": [
              "\n",
              "  <div id=\"df-ce7a4119-8681-4dfa-9b9a-d7427d8aa782\" class=\"colab-df-container\">\n",
              "    <div>\n",
              "<style scoped>\n",
              "    .dataframe tbody tr th:only-of-type {\n",
              "        vertical-align: middle;\n",
              "    }\n",
              "\n",
              "    .dataframe tbody tr th {\n",
              "        vertical-align: top;\n",
              "    }\n",
              "\n",
              "    .dataframe thead th {\n",
              "        text-align: right;\n",
              "    }\n",
              "</style>\n",
              "<table border=\"1\" class=\"dataframe\">\n",
              "  <thead>\n",
              "    <tr style=\"text-align: right;\">\n",
              "      <th></th>\n",
              "      <th>No</th>\n",
              "      <th>Langkah Proyek</th>\n",
              "      <th>Deskripsi</th>\n",
              "      <th>Waktu (Minggu)</th>\n",
              "      <th>Sumber Daya yang Dibutuhkan</th>\n",
              "    </tr>\n",
              "  </thead>\n",
              "  <tbody>\n",
              "    <tr>\n",
              "      <th>0</th>\n",
              "      <td>1</td>\n",
              "      <td>Pengumpulan Data</td>\n",
              "      <td>Mengumpulkan data historis penjualan rumah, da...</td>\n",
              "      <td>2</td>\n",
              "      <td>Tim Data Scientist, akses ke database, alat ETL.</td>\n",
              "    </tr>\n",
              "    <tr>\n",
              "      <th>1</th>\n",
              "      <td>2</td>\n",
              "      <td>Pembersihan dan Pra-pemrosesan Data</td>\n",
              "      <td>Membersihkan data dari kesalahan dan mempersia...</td>\n",
              "      <td>1</td>\n",
              "      <td>Tim Data Scientist, perangkat lunak pembersiha...</td>\n",
              "    </tr>\n",
              "    <tr>\n",
              "      <th>2</th>\n",
              "      <td>3</td>\n",
              "      <td>Eksplorasi Data</td>\n",
              "      <td>Melakukan analisis eksplorasi untuk memahami d...</td>\n",
              "      <td>2</td>\n",
              "      <td>Tim Data Scientist, perangkat lunak analisis d...</td>\n",
              "    </tr>\n",
              "    <tr>\n",
              "      <th>3</th>\n",
              "      <td>4</td>\n",
              "      <td>Analisis Deskriptif</td>\n",
              "      <td>Menganalisis faktor-faktor yang mempengaruhi h...</td>\n",
              "      <td>1</td>\n",
              "      <td>Tim Data Scientist, alat visualisasi (Tableau/...</td>\n",
              "    </tr>\n",
              "    <tr>\n",
              "      <th>4</th>\n",
              "      <td>5</td>\n",
              "      <td>Pengembangan Model Prediksi</td>\n",
              "      <td>Membangun model regresi untuk memprediksi harg...</td>\n",
              "      <td>3</td>\n",
              "      <td>Tim Data Scientist, perangkat lunak pemodelan ...</td>\n",
              "    </tr>\n",
              "    <tr>\n",
              "      <th>5</th>\n",
              "      <td>6</td>\n",
              "      <td>Validasi Model</td>\n",
              "      <td>Menguji dan memvalidasi model untuk memastikan...</td>\n",
              "      <td>1</td>\n",
              "      <td>Tim Data Scientist, data validasi, perangkat l...</td>\n",
              "    </tr>\n",
              "    <tr>\n",
              "      <th>6</th>\n",
              "      <td>7</td>\n",
              "      <td>Pengembangan Laporan dan Presentasi</td>\n",
              "      <td>Menyusun laporan hasil analisis dan presentasi...</td>\n",
              "      <td>2</td>\n",
              "      <td>Tim Data Scientist, alat presentasi (PowerPoin...</td>\n",
              "    </tr>\n",
              "    <tr>\n",
              "      <th>7</th>\n",
              "      <td>8</td>\n",
              "      <td>Monitoring dan Evaluasi</td>\n",
              "      <td>Memantau hasil dari implementasi dan melakukan...</td>\n",
              "      <td>Berkelanjutan</td>\n",
              "      <td>Tim Data Scientist dan Tim Pemasaran.</td>\n",
              "    </tr>\n",
              "  </tbody>\n",
              "</table>\n",
              "</div>\n",
              "    <div class=\"colab-df-buttons\">\n",
              "\n",
              "  <div class=\"colab-df-container\">\n",
              "    <button class=\"colab-df-convert\" onclick=\"convertToInteractive('df-ce7a4119-8681-4dfa-9b9a-d7427d8aa782')\"\n",
              "            title=\"Convert this dataframe to an interactive table.\"\n",
              "            style=\"display:none;\">\n",
              "\n",
              "  <svg xmlns=\"http://www.w3.org/2000/svg\" height=\"24px\" viewBox=\"0 -960 960 960\">\n",
              "    <path d=\"M120-120v-720h720v720H120Zm60-500h600v-160H180v160Zm220 220h160v-160H400v160Zm0 220h160v-160H400v160ZM180-400h160v-160H180v160Zm440 0h160v-160H620v160ZM180-180h160v-160H180v160Zm440 0h160v-160H620v160Z\"/>\n",
              "  </svg>\n",
              "    </button>\n",
              "\n",
              "  <style>\n",
              "    .colab-df-container {\n",
              "      display:flex;\n",
              "      gap: 12px;\n",
              "    }\n",
              "\n",
              "    .colab-df-convert {\n",
              "      background-color: #E8F0FE;\n",
              "      border: none;\n",
              "      border-radius: 50%;\n",
              "      cursor: pointer;\n",
              "      display: none;\n",
              "      fill: #1967D2;\n",
              "      height: 32px;\n",
              "      padding: 0 0 0 0;\n",
              "      width: 32px;\n",
              "    }\n",
              "\n",
              "    .colab-df-convert:hover {\n",
              "      background-color: #E2EBFA;\n",
              "      box-shadow: 0px 1px 2px rgba(60, 64, 67, 0.3), 0px 1px 3px 1px rgba(60, 64, 67, 0.15);\n",
              "      fill: #174EA6;\n",
              "    }\n",
              "\n",
              "    .colab-df-buttons div {\n",
              "      margin-bottom: 4px;\n",
              "    }\n",
              "\n",
              "    [theme=dark] .colab-df-convert {\n",
              "      background-color: #3B4455;\n",
              "      fill: #D2E3FC;\n",
              "    }\n",
              "\n",
              "    [theme=dark] .colab-df-convert:hover {\n",
              "      background-color: #434B5C;\n",
              "      box-shadow: 0px 1px 3px 1px rgba(0, 0, 0, 0.15);\n",
              "      filter: drop-shadow(0px 1px 2px rgba(0, 0, 0, 0.3));\n",
              "      fill: #FFFFFF;\n",
              "    }\n",
              "  </style>\n",
              "\n",
              "    <script>\n",
              "      const buttonEl =\n",
              "        document.querySelector('#df-ce7a4119-8681-4dfa-9b9a-d7427d8aa782 button.colab-df-convert');\n",
              "      buttonEl.style.display =\n",
              "        google.colab.kernel.accessAllowed ? 'block' : 'none';\n",
              "\n",
              "      async function convertToInteractive(key) {\n",
              "        const element = document.querySelector('#df-ce7a4119-8681-4dfa-9b9a-d7427d8aa782');\n",
              "        const dataTable =\n",
              "          await google.colab.kernel.invokeFunction('convertToInteractive',\n",
              "                                                    [key], {});\n",
              "        if (!dataTable) return;\n",
              "\n",
              "        const docLinkHtml = 'Like what you see? Visit the ' +\n",
              "          '<a target=\"_blank\" href=https://colab.research.google.com/notebooks/data_table.ipynb>data table notebook</a>'\n",
              "          + ' to learn more about interactive tables.';\n",
              "        element.innerHTML = '';\n",
              "        dataTable['output_type'] = 'display_data';\n",
              "        await google.colab.output.renderOutput(dataTable, element);\n",
              "        const docLink = document.createElement('div');\n",
              "        docLink.innerHTML = docLinkHtml;\n",
              "        element.appendChild(docLink);\n",
              "      }\n",
              "    </script>\n",
              "  </div>\n",
              "\n",
              "\n",
              "<div id=\"df-d298ee01-ae6a-4683-b983-e0c5d1c93623\">\n",
              "  <button class=\"colab-df-quickchart\" onclick=\"quickchart('df-d298ee01-ae6a-4683-b983-e0c5d1c93623')\"\n",
              "            title=\"Suggest charts\"\n",
              "            style=\"display:none;\">\n",
              "\n",
              "<svg xmlns=\"http://www.w3.org/2000/svg\" height=\"24px\"viewBox=\"0 0 24 24\"\n",
              "     width=\"24px\">\n",
              "    <g>\n",
              "        <path d=\"M19 3H5c-1.1 0-2 .9-2 2v14c0 1.1.9 2 2 2h14c1.1 0 2-.9 2-2V5c0-1.1-.9-2-2-2zM9 17H7v-7h2v7zm4 0h-2V7h2v10zm4 0h-2v-4h2v4z\"/>\n",
              "    </g>\n",
              "</svg>\n",
              "  </button>\n",
              "\n",
              "<style>\n",
              "  .colab-df-quickchart {\n",
              "      --bg-color: #E8F0FE;\n",
              "      --fill-color: #1967D2;\n",
              "      --hover-bg-color: #E2EBFA;\n",
              "      --hover-fill-color: #174EA6;\n",
              "      --disabled-fill-color: #AAA;\n",
              "      --disabled-bg-color: #DDD;\n",
              "  }\n",
              "\n",
              "  [theme=dark] .colab-df-quickchart {\n",
              "      --bg-color: #3B4455;\n",
              "      --fill-color: #D2E3FC;\n",
              "      --hover-bg-color: #434B5C;\n",
              "      --hover-fill-color: #FFFFFF;\n",
              "      --disabled-bg-color: #3B4455;\n",
              "      --disabled-fill-color: #666;\n",
              "  }\n",
              "\n",
              "  .colab-df-quickchart {\n",
              "    background-color: var(--bg-color);\n",
              "    border: none;\n",
              "    border-radius: 50%;\n",
              "    cursor: pointer;\n",
              "    display: none;\n",
              "    fill: var(--fill-color);\n",
              "    height: 32px;\n",
              "    padding: 0;\n",
              "    width: 32px;\n",
              "  }\n",
              "\n",
              "  .colab-df-quickchart:hover {\n",
              "    background-color: var(--hover-bg-color);\n",
              "    box-shadow: 0 1px 2px rgba(60, 64, 67, 0.3), 0 1px 3px 1px rgba(60, 64, 67, 0.15);\n",
              "    fill: var(--button-hover-fill-color);\n",
              "  }\n",
              "\n",
              "  .colab-df-quickchart-complete:disabled,\n",
              "  .colab-df-quickchart-complete:disabled:hover {\n",
              "    background-color: var(--disabled-bg-color);\n",
              "    fill: var(--disabled-fill-color);\n",
              "    box-shadow: none;\n",
              "  }\n",
              "\n",
              "  .colab-df-spinner {\n",
              "    border: 2px solid var(--fill-color);\n",
              "    border-color: transparent;\n",
              "    border-bottom-color: var(--fill-color);\n",
              "    animation:\n",
              "      spin 1s steps(1) infinite;\n",
              "  }\n",
              "\n",
              "  @keyframes spin {\n",
              "    0% {\n",
              "      border-color: transparent;\n",
              "      border-bottom-color: var(--fill-color);\n",
              "      border-left-color: var(--fill-color);\n",
              "    }\n",
              "    20% {\n",
              "      border-color: transparent;\n",
              "      border-left-color: var(--fill-color);\n",
              "      border-top-color: var(--fill-color);\n",
              "    }\n",
              "    30% {\n",
              "      border-color: transparent;\n",
              "      border-left-color: var(--fill-color);\n",
              "      border-top-color: var(--fill-color);\n",
              "      border-right-color: var(--fill-color);\n",
              "    }\n",
              "    40% {\n",
              "      border-color: transparent;\n",
              "      border-right-color: var(--fill-color);\n",
              "      border-top-color: var(--fill-color);\n",
              "    }\n",
              "    60% {\n",
              "      border-color: transparent;\n",
              "      border-right-color: var(--fill-color);\n",
              "    }\n",
              "    80% {\n",
              "      border-color: transparent;\n",
              "      border-right-color: var(--fill-color);\n",
              "      border-bottom-color: var(--fill-color);\n",
              "    }\n",
              "    90% {\n",
              "      border-color: transparent;\n",
              "      border-bottom-color: var(--fill-color);\n",
              "    }\n",
              "  }\n",
              "</style>\n",
              "\n",
              "  <script>\n",
              "    async function quickchart(key) {\n",
              "      const quickchartButtonEl =\n",
              "        document.querySelector('#' + key + ' button');\n",
              "      quickchartButtonEl.disabled = true;  // To prevent multiple clicks.\n",
              "      quickchartButtonEl.classList.add('colab-df-spinner');\n",
              "      try {\n",
              "        const charts = await google.colab.kernel.invokeFunction(\n",
              "            'suggestCharts', [key], {});\n",
              "      } catch (error) {\n",
              "        console.error('Error during call to suggestCharts:', error);\n",
              "      }\n",
              "      quickchartButtonEl.classList.remove('colab-df-spinner');\n",
              "      quickchartButtonEl.classList.add('colab-df-quickchart-complete');\n",
              "    }\n",
              "    (() => {\n",
              "      let quickchartButtonEl =\n",
              "        document.querySelector('#df-d298ee01-ae6a-4683-b983-e0c5d1c93623 button');\n",
              "      quickchartButtonEl.style.display =\n",
              "        google.colab.kernel.accessAllowed ? 'block' : 'none';\n",
              "    })();\n",
              "  </script>\n",
              "</div>\n",
              "\n",
              "  <div id=\"id_bcd838de-a3f0-4508-8bc3-ba2683756ddd\">\n",
              "    <style>\n",
              "      .colab-df-generate {\n",
              "        background-color: #E8F0FE;\n",
              "        border: none;\n",
              "        border-radius: 50%;\n",
              "        cursor: pointer;\n",
              "        display: none;\n",
              "        fill: #1967D2;\n",
              "        height: 32px;\n",
              "        padding: 0 0 0 0;\n",
              "        width: 32px;\n",
              "      }\n",
              "\n",
              "      .colab-df-generate:hover {\n",
              "        background-color: #E2EBFA;\n",
              "        box-shadow: 0px 1px 2px rgba(60, 64, 67, 0.3), 0px 1px 3px 1px rgba(60, 64, 67, 0.15);\n",
              "        fill: #174EA6;\n",
              "      }\n",
              "\n",
              "      [theme=dark] .colab-df-generate {\n",
              "        background-color: #3B4455;\n",
              "        fill: #D2E3FC;\n",
              "      }\n",
              "\n",
              "      [theme=dark] .colab-df-generate:hover {\n",
              "        background-color: #434B5C;\n",
              "        box-shadow: 0px 1px 3px 1px rgba(0, 0, 0, 0.15);\n",
              "        filter: drop-shadow(0px 1px 2px rgba(0, 0, 0, 0.3));\n",
              "        fill: #FFFFFF;\n",
              "      }\n",
              "    </style>\n",
              "    <button class=\"colab-df-generate\" onclick=\"generateWithVariable('df_proyek')\"\n",
              "            title=\"Generate code using this dataframe.\"\n",
              "            style=\"display:none;\">\n",
              "\n",
              "  <svg xmlns=\"http://www.w3.org/2000/svg\" height=\"24px\"viewBox=\"0 0 24 24\"\n",
              "       width=\"24px\">\n",
              "    <path d=\"M7,19H8.4L18.45,9,17,7.55,7,17.6ZM5,21V16.75L18.45,3.32a2,2,0,0,1,2.83,0l1.4,1.43a1.91,1.91,0,0,1,.58,1.4,1.91,1.91,0,0,1-.58,1.4L9.25,21ZM18.45,9,17,7.55Zm-12,3A5.31,5.31,0,0,0,4.9,8.1,5.31,5.31,0,0,0,1,6.5,5.31,5.31,0,0,0,4.9,4.9,5.31,5.31,0,0,0,6.5,1,5.31,5.31,0,0,0,8.1,4.9,5.31,5.31,0,0,0,12,6.5,5.46,5.46,0,0,0,6.5,12Z\"/>\n",
              "  </svg>\n",
              "    </button>\n",
              "    <script>\n",
              "      (() => {\n",
              "      const buttonEl =\n",
              "        document.querySelector('#id_bcd838de-a3f0-4508-8bc3-ba2683756ddd button.colab-df-generate');\n",
              "      buttonEl.style.display =\n",
              "        google.colab.kernel.accessAllowed ? 'block' : 'none';\n",
              "\n",
              "      buttonEl.onclick = () => {\n",
              "        google.colab.notebook.generateWithVariable('df_proyek');\n",
              "      }\n",
              "      })();\n",
              "    </script>\n",
              "  </div>\n",
              "\n",
              "    </div>\n",
              "  </div>\n"
            ],
            "application/vnd.google.colaboratory.intrinsic+json": {
              "type": "dataframe",
              "variable_name": "df_proyek",
              "summary": "{\n  \"name\": \"df_proyek\",\n  \"rows\": 8,\n  \"fields\": [\n    {\n      \"column\": \"No\",\n      \"properties\": {\n        \"dtype\": \"number\",\n        \"std\": 2,\n        \"min\": 1,\n        \"max\": 8,\n        \"num_unique_values\": 8,\n        \"samples\": [\n          2,\n          6,\n          1\n        ],\n        \"semantic_type\": \"\",\n        \"description\": \"\"\n      }\n    },\n    {\n      \"column\": \"Langkah Proyek\",\n      \"properties\": {\n        \"dtype\": \"string\",\n        \"num_unique_values\": 8,\n        \"samples\": [\n          \"Pembersihan dan Pra-pemrosesan Data\",\n          \"Validasi Model\",\n          \"Pengumpulan Data\"\n        ],\n        \"semantic_type\": \"\",\n        \"description\": \"\"\n      }\n    },\n    {\n      \"column\": \"Deskripsi\",\n      \"properties\": {\n        \"dtype\": \"string\",\n        \"num_unique_values\": 8,\n        \"samples\": [\n          \"Membersihkan data dari kesalahan dan mempersiapkan untuk analisis.\",\n          \"Menguji dan memvalidasi model untuk memastikan akurasi.\",\n          \"Mengumpulkan data historis penjualan rumah, data pelanggan, dan data pasar.\"\n        ],\n        \"semantic_type\": \"\",\n        \"description\": \"\"\n      }\n    },\n    {\n      \"column\": \"Waktu (Minggu)\",\n      \"properties\": {\n        \"dtype\": \"string\",\n        \"num_unique_values\": 4,\n        \"samples\": [\n          1,\n          \"Berkelanjutan\",\n          2\n        ],\n        \"semantic_type\": \"\",\n        \"description\": \"\"\n      }\n    },\n    {\n      \"column\": \"Sumber Daya yang Dibutuhkan\",\n      \"properties\": {\n        \"dtype\": \"string\",\n        \"num_unique_values\": 8,\n        \"samples\": [\n          \"Tim Data Scientist, perangkat lunak pembersihan data.\",\n          \"Tim Data Scientist, data validasi, perangkat lunak analisis.\",\n          \"Tim Data Scientist, akses ke database, alat ETL.\"\n        ],\n        \"semantic_type\": \"\",\n        \"description\": \"\"\n      }\n    }\n  ]\n}"
            }
          },
          "metadata": {},
          "execution_count": 2
        }
      ]
    },
    {
      "cell_type": "code",
      "source": [
        "data = {\n",
        "    'Langkah Proyek': [\n",
        "        'Pengumpulan Data',\n",
        "        'Pembersihan Data',\n",
        "        'Eksplorasi Data',\n",
        "        'Analisis Deskriptif',\n",
        "        'Pengembangan Model',\n",
        "        'Validasi Model',\n",
        "        'Pengembangan Laporan',\n",
        "        'Monitoring dan Evaluasi'\n",
        "    ],\n",
        "    'Mulai': [0, 2, 3, 5, 6, 9, 10, 12],\n",
        "    'Durasi': [2, 1, 2, 1, 3, 1, 2, 1]\n",
        "}\n",
        "\n",
        "data['Akhir'] = [start + duration for start, duration in zip(data['Mulai'], data['Durasi'])]\n",
        "\n",
        "fig, ax = plt.subplots(figsize=(10, 6))\n",
        "\n",
        "for i, (start, duration) in enumerate(zip(data['Mulai'], data['Durasi'])):\n",
        "    ax.barh(data['Langkah Proyek'][i], duration, left=start, color='skyblue')\n",
        "\n",
        "ax.set_xlabel('Minggu')\n",
        "ax.set_title('Gantt Chart Proyek Analisis Data Perusahaan X (Sederhana)')\n",
        "ax.set_yticks(np.arange(len(data['Langkah Proyek'])))\n",
        "ax.set_yticklabels(data['Langkah Proyek'])\n",
        "ax.grid(axis='x')\n",
        "\n",
        "plt.show()"
      ],
      "metadata": {
        "colab": {
          "base_uri": "https://localhost:8080/",
          "height": 564
        },
        "id": "C4q5xZb3RsLM",
        "outputId": "0aef3f0d-a3ed-4514-a206-bfa7482848ae"
      },
      "execution_count": null,
      "outputs": [
        {
          "output_type": "display_data",
          "data": {
            "text/plain": [
              "<Figure size 1000x600 with 1 Axes>"
            ],
            "image/png": "[encoded data removed]"
          },
          "metadata": {}
        }
      ]
    },
    {
      "cell_type": "markdown",
      "source": [
        "### 1.4.2. Initial Assessment of Tools and Techniques\n",
        "\n",
        "1. Manajemen Proyek\n",
        "    > GanttProject\n",
        "        Kelebihan: Gratis dan sumber terbuka; antarmuka sederhana; mudah digunakan untuk membuat diagram Gantt.\n",
        "        Kekurangan: Fitur terbatas dibandingkan dengan alat berbayar; kurang cocok untuk proyek besar.\n",
        "\n",
        "2. Eksplorasi Data\n",
        "    > Microsoft Excel\n",
        "        Kelebihan: Familiaritas pengguna; alat analisis dan visualisasi yang kuat; banyak fungsi built-in.\n",
        "        Kekurangan: Terbatas dalam menangani dataset besar; tidak optimal untuk visualisasi yang kompleks.\n",
        "\n",
        "3. Model\n",
        "    > Python\n",
        "        Kelebihan: Fleksibel dan banyak pustaka (seperti Pandas, NumPy, scikit-learn); komunitas yang besar dan dukungan luas.\n",
        "        Kekurangan: Memerlukan pemahaman pemrograman; kecepatan bisa menjadi masalah dengan dataset besar.\n",
        "\n",
        "4. Laporan\n",
        "    > Microsoft Word\n",
        "        Kelebihan: Familiar dan mudah digunakan; fitur pengeditan teks yang kuat.\n",
        "        Kekurangan: Kurang fleksibel untuk dokumen teknis yang kompleks; manajemen referensi yang lebih sulit.\n",
        "\n",
        "5. Teknik Prediksi\n",
        "    > Linear Regression\n",
        "        Kelebihan: Sederhana dan mudah dipahami; interpretasi koefisien yang jelas; cepat dalam pelatihan.\n",
        "        Kekurangan: Sensitif terhadap outlier; asumsi linieritas yang mungkin tidak terpenuhi di semua dataset.\n",
        "\n",
        "    > Random Forest\n",
        "        Kelebihan: Tahan terhadap overfitting; mampu menangani data yang hilang dan fitur yang beragam; tidak memerlukan pra-pemrosesan yang ekstensif.\n",
        "        Kekurangan: Kurang transparan dalam interpretasi hasil; waktu pelatihan yang lebih lama dibandingkan dengan model yang lebih sederhana.\n",
        "\n",
        "    > Gradient Boosting\n",
        "        Kelebihan: Kinerja tinggi dalam kompetisi pemodelan; dapat menangani fitur non-linear dan interaksi; fleksibel dalam menangani berbagai jenis data.\n",
        "        Kekurangan: Memerlukan pemahaman parameter tuning; dapat rentan terhadap overfitting jika tidak diatur dengan baik; waktu pelatihan yang lebih lama dibandingkan model sederhana."
      ],
      "metadata": {
        "id": "i6sd1MgvbTO-"
      }
    },
    {
      "cell_type": "markdown",
      "source": [
        "# 2. Data Understanding"
      ],
      "metadata": {
        "id": "UibDaSFGbZVR"
      }
    },
    {
      "cell_type": "markdown",
      "source": [
        "## 2.1. Collect Initial Data"
      ],
      "metadata": {
        "id": "IDW-PtsrblQA"
      }
    },
    {
      "cell_type": "markdown",
      "source": [
        "### 2.1.1. Initial Data Collection Report\n",
        "\n",
        "xxx\n",
        "\n",
        "---\n",
        "\n",
        "Menjelaskan data-data yang digunakan dalam proyek. Termasuk bagaimana\n",
        "cara mendapatkan/mengaksesnya secara teknis.\n",
        "Contoh:\n",
        "* Data pelanggan dapat diakses dari tabel pelanggan yang ada di database X\n",
        "dengan akses ……..\n",
        "* Data komentar warganet diakses menggunakan API Twitter dengan metode\n",
        "pengambilan ……..\n",
        "* Dll"
      ],
      "metadata": {
        "id": "PXbaYX4qblwv"
      }
    },
    {
      "cell_type": "markdown",
      "source": [
        "## 2.2. Describe Data"
      ],
      "metadata": {
        "id": "bF0DS9m3btb9"
      }
    },
    {
      "cell_type": "markdown",
      "source": [
        "### 2.2.1. Data Description Report\n",
        "\n",
        "Berikut adalah penjelasan umum mengenai dataset yang digunakan:\n",
        "* x\n",
        "* x\n",
        "* x\n",
        "\n",
        "Adapun berdasarkan hasil statistik deskriptif pada dataset, berikut adalah beberapa insight utama yang dapat diperoleh:\n",
        "\n",
        "* x\n",
        "* x\n",
        "* x"
      ],
      "metadata": {
        "id": "-LXAujRbmy3X"
      }
    },
    {
      "cell_type": "markdown",
      "source": [
        "## 2.3. Explore Data"
      ],
      "metadata": {
        "id": "ebFNA2L-cXOg"
      }
    },
    {
      "cell_type": "markdown",
      "source": [
        "### 2.3.1. Data Exploration Report\n",
        "\n",
        "Dalam Data Exploration Report berdasarkan hasil visualisasi dan analisis, temuan-temuan tersebut adalah sebagai berikut:\n",
        "\n",
        "1. x\n",
        "2. x\n",
        "3. x"
      ],
      "metadata": {
        "id": "DkPybX1cm45V"
      }
    },
    {
      "cell_type": "markdown",
      "source": [
        "## 2.4. Verify Data Quality"
      ],
      "metadata": {
        "id": "k_0hB5btcfAX"
      }
    },
    {
      "cell_type": "markdown",
      "source": [
        "### 2.4.1. Data Quality Report\n",
        "\n",
        "xxx\n",
        "\n",
        "---\n",
        "\n",
        "Memeriksa kualitas data: apakah datanya lengkap (untuk semua kasus)?,\n",
        "apakah ada data eror? Seberapa banyak erornya? Apakah ada data kosong?\n",
        "Dll"
      ],
      "metadata": {
        "id": "7av7ePz7cgkq"
      }
    },
    {
      "cell_type": "markdown",
      "source": [
        "# 3. Data Preparation"
      ],
      "metadata": {
        "id": "WO5WpwIlcuPO"
      }
    },
    {
      "cell_type": "markdown",
      "source": [
        "## 3.1. Select Data"
      ],
      "metadata": {
        "id": "Hk7qJZc_cwBq"
      }
    },
    {
      "cell_type": "markdown",
      "source": [
        "### 3.1.1. Rationale for Inclusion/Exclusion\n",
        "\n",
        "xxx\n",
        "\n",
        "---\n",
        "\n",
        "Daftar alasan mengapa memilih atau membuang data yang bersangkutan\n",
        "Dapat memanfaatkan uji statistika\n",
        "Contoh:\n",
        "* Kolom pendapatan dipilih karena berkorelasi tinggi dengan pengeluaran\n",
        "berdasarkan uji korelasi\n",
        "* Membagi data menjadi data training dan testing menggunakan random\n",
        "sampling\n",
        "* Dll"
      ],
      "metadata": {
        "id": "8qUjkZCUnKRR"
      }
    },
    {
      "cell_type": "markdown",
      "source": [
        "## 3.2. Clean Data"
      ],
      "metadata": {
        "id": "CLarrFtSc_x5"
      }
    },
    {
      "cell_type": "markdown",
      "source": [
        "### 3.2.1. Data Cleaning Report\n",
        "\n",
        "xxx\n",
        "\n",
        "---\n",
        "\n",
        "Menjelaskan keputusan serta langkah-langkah dalam mengatasi masalah\n",
        "kualitas data yang ada di data quality report (2.4.1)\n",
        "Contoh:\n",
        "* Proses mengatasi data kosong\n",
        "* Mengatasi typo\n",
        "* Dll"
      ],
      "metadata": {
        "id": "auSgkr0knXZh"
      }
    },
    {
      "cell_type": "markdown",
      "source": [
        "## 3.3. Construct Data\n",
        "\n",
        "xxx\n",
        "\n",
        "---\n",
        "\n",
        "* Membangun data dengan menambah kolom baru atau menambah baris baru\n",
        "* Menambah kolom (derived attributes) biasa disebut feature engineering\n",
        "* Menambah baris (generated records) biasa disebut oversampling"
      ],
      "metadata": {
        "id": "dtZPQxYrnkii"
      }
    },
    {
      "cell_type": "markdown",
      "source": [
        "## 3.4. Integrate Data\n",
        "\n",
        "xxx\n",
        "\n",
        "---\n",
        "\n",
        "Menggabungkan data dari berbagai tabel atau dari sumber lain"
      ],
      "metadata": {
        "id": "h1F7wJL3nppS"
      }
    },
    {
      "cell_type": "markdown",
      "source": [
        "## 3.5. Format Data\n",
        "\n",
        "xxx\n",
        "\n",
        "---\n",
        "\n",
        "Pengubahan format data dengan tidak mengubah makna namun bisa\n",
        "berguna untuk pembuatan model\n",
        "* Contoh: mengubah urutan kolom, urutan baris, dan sebagainya"
      ],
      "metadata": {
        "id": "nu6Hs0tDn0po"
      }
    },
    {
      "cell_type": "markdown",
      "source": [
        "## 3.6. Data Set\n",
        "\n",
        "xxx\n",
        "\n",
        "---\n",
        "\n",
        "Output akhir dari proses data understanding\n",
        "* Data set = data siap untuk dibuat model\n",
        "* Data set description = informasi metadata tentang dataset"
      ],
      "metadata": {
        "id": "_32Pc1t7n6Hw"
      }
    },
    {
      "cell_type": "markdown",
      "source": [
        "# 4. Modeling"
      ],
      "metadata": {
        "id": "qNz-twtMdVdA"
      }
    },
    {
      "cell_type": "markdown",
      "source": [
        "## 4.1. Select Modeling Technique"
      ],
      "metadata": {
        "id": "TU_GZNJSdV7X"
      }
    },
    {
      "cell_type": "markdown",
      "source": [
        "### 4.1.1. Modeling Technique\n",
        "\n",
        "xxx\n",
        "\n",
        "---\n",
        "\n",
        "Memilih teknik pemodelan yang akan digunakan"
      ],
      "metadata": {
        "id": "sX7srUNboCm4"
      }
    },
    {
      "cell_type": "markdown",
      "source": [
        "### 4.1.2. Modeling Assumptions\n",
        "\n",
        "xxx\n",
        "\n",
        "---\n",
        "\n",
        "Banyak model yang mengharuskan suatu asumsi terhadap data.\n",
        "Contoh:\n",
        "* Linear regression membutuhkan asumsi linearitas, dll\n",
        "* Random forest tidak membutuhkan asumsi\n",
        "* SVM membutuhkan asumsi bahwa datanya independen dan tersebar\n",
        "merata\n",
        "* dll"
      ],
      "metadata": {
        "id": "Vs2l67UkoFjC"
      }
    },
    {
      "cell_type": "markdown",
      "source": [
        "## 4.2. Generate Test Design\n",
        "\n",
        "xxx\n",
        "\n",
        "---\n",
        "\n",
        "Merencanakan skema pengujian model\n",
        "Contoh:\n",
        "* Membagi dataset ke dalam training, validation, dan testing dengan\n",
        "proporsi……Kemudian melakukan pembuatan model di training,\n",
        "diaplikasikan di validation, dan diuji di testing.\n",
        "* Dsb"
      ],
      "metadata": {
        "id": "ChELZONXoKW8"
      }
    },
    {
      "cell_type": "markdown",
      "source": [
        "## 4.3. Build Model\n",
        "\n",
        "xxx\n",
        "\n",
        "---\n",
        "\n",
        "Menjalankan proses pembuatan model\n",
        "Output:\n",
        "* Parameter awal yang digunakan di model\n",
        "* Model itu sendiri\n",
        "* Deskripsi model. Bisa berisi parameter/hyperparameter yang digunakan,\n",
        "dan informasi lain terkait model akhir"
      ],
      "metadata": {
        "id": "avrV-bU_oQLU"
      }
    },
    {
      "cell_type": "markdown",
      "source": [
        "## 4.4. Assess Model"
      ],
      "metadata": {
        "id": "X1s_CwkHdjcM"
      }
    },
    {
      "cell_type": "markdown",
      "source": [
        "### 4.4.1. Model Assessment\n",
        "\n",
        "* Mean Absolute Error (MAE) mengukur rata-rata kesalahan absolut antara prediksi model dan harga rumah yang sebenarnya. Nilai ini memberikan gambaran tentang seberapa jauh prediksi kita dari nilai yang sebenarnya tanpa memperhatikan arah kesalahan. Semakin kecil nilai MAE, semakin baik kinerja model.\n",
        "\n",
        "* Mean Squared Error (MSE) menghitung rata-rata kuadrat dari selisih antara nilai yang diprediksi dan nilai aktual. Metrik ini memberikan bobot lebih besar pada kesalahan yang lebih besar, sehingga sensitif terhadap outlier. MSE yang lebih rendah menunjukkan model yang lebih akurat.\n",
        "\n",
        "* Root Mean Squared Error (RMSE) adalah akar kuadrat dari MSE. Metrik ini mengukur kesalahan dalam unit yang sama dengan variabel target (dalam hal ini, harga rumah), sehingga lebih mudah dipahami. RMSE yang lebih kecil menunjukkan model yang lebih baik.\n",
        "\n",
        "* R-squared Score (atau koefisien determinasi) menunjukkan proporsi variabilitas dalam harga rumah yang dapat dijelaskan oleh model. Nilainya berkisar antara 0 hingga 1, dimana 1 menunjukkan bahwa model mampu menjelaskan semua variabilitas data. R-squared yang tinggi menandakan model yang baik dalam menggambarkan hubungan antara fitur dan harga rumah."
      ],
      "metadata": {
        "id": "o9zh6_Z8dkiS"
      }
    },
    {
      "cell_type": "markdown",
      "source": [
        "### 4.4.2. Revised Parameter Settings\n",
        "\n",
        "xxx\n",
        "\n",
        "---\n",
        "\n",
        "* Berdasarkan hasil assessment, maka bisa dilakukan proses pengubahan\n",
        "parameter yang ada di dalam model untuk mendapat model terbaik.\n",
        "* Alur proses bisa berulang dari membuat model hingga assessment"
      ],
      "metadata": {
        "id": "1ag5n-E-ocTu"
      }
    },
    {
      "cell_type": "markdown",
      "source": [
        "# 5. Evaluation"
      ],
      "metadata": {
        "id": "v43wsn2ZdrF0"
      }
    },
    {
      "cell_type": "markdown",
      "source": [
        "## 5.1. Evaluate Results\n",
        "\n",
        "**Kesesuaian Hasil dengan Business Objectives**\n",
        "\n",
        "xxx\n",
        "\n",
        "**Model yang Sesuai dengan Business Criteria**\n",
        "\n",
        "xxx\n",
        "\n",
        "**Rekomendasi untuk Proyek Selanjutnya**\n",
        "\n",
        "xxx\n"
      ],
      "metadata": {
        "id": "MB67syyndsYc"
      }
    },
    {
      "cell_type": "markdown",
      "source": [
        "## 5.2. Review Process\n",
        "\n",
        "* Meninjau ulang proses data science di dalam projek\n",
        "* Dapat dikatakan sebagai proses Quality Assurance"
      ],
      "metadata": {
        "id": "XL0facNvooLi"
      }
    },
    {
      "cell_type": "markdown",
      "source": [
        "## 5.3. Determine Next Steps\n",
        "\n",
        "Berdasarkan hasil analisis dan evaluasi, langkah selanjutnya yang diusulkan adalah sebagai berikut:\n",
        "\n",
        "1. x\n",
        "2. x\n",
        "3. x"
      ],
      "metadata": {
        "id": "npOVtHUvoudY"
      }
    },
    {
      "cell_type": "markdown",
      "source": [
        "# 6. Deployment"
      ],
      "metadata": {
        "id": "BwdsR3Ovdz8S"
      }
    },
    {
      "cell_type": "markdown",
      "source": [
        "## 6.1. Plan Deployment\n",
        "\n",
        "Untuk memastikan hasil dari analisis data science dapat diintegrasikan secara efektif ke dalam proses bisnis, berikut adalah rencana penerapannya:\n",
        "\n",
        "1. x\n",
        "2. x\n",
        "3. x"
      ],
      "metadata": {
        "id": "4X5AIBq-oxwG"
      }
    },
    {
      "cell_type": "markdown",
      "source": [
        "## 6.2. Plan Monitoring and Maintenance\n",
        "\n",
        "xxx\n",
        "\n",
        "---\n",
        "\n",
        "* Membuat perencanaan monitoring dan perawatan hasil data science yang\n",
        "sudah di-deploy ke sistem bisnis"
      ],
      "metadata": {
        "id": "-sRgWwMno3fo"
      }
    }
  ]
}