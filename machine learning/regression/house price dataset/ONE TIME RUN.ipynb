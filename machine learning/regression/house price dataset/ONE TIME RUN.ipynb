{
  "nbformat": 4,
  "nbformat_minor": 0,
  "metadata": {
    "colab": {
      "provenance": []
    },
    "kernelspec": {
      "name": "python3",
      "display_name": "Python 3"
    },
    "language_info": {
      "name": "python"
    }
  },
  "cells": [
    {
      "cell_type": "markdown",
      "source": [
        "# Template Skrip Untuk Eksekusi"
      ],
      "metadata": {
        "id": "1jWq_a4lrFB5"
      }
    },
    {
      "cell_type": "markdown",
      "source": [
        "## 1. Load Library"
      ],
      "metadata": {
        "id": "EMkryJ8-rP_f"
      }
    },
    {
      "cell_type": "code",
      "execution_count": null,
      "metadata": {
        "id": "tp2qej6xq9ep"
      },
      "outputs": [],
      "source": [
        "import time\n",
        "import pandas as pd\n",
        "import numpy as np\n",
        "\n",
        "from sklearn.preprocessing import MinMaxScaler\n",
        "from sklearn.model_selection import train_test_split\n",
        "from sklearn.ensemble import GradientBoostingRegressor\n",
        "from sklearn.metrics import mean_squared_error"
      ]
    },
    {
      "cell_type": "markdown",
      "source": [
        "## 2. Load Dataset"
      ],
      "metadata": {
        "id": "rkp8Yyp5rXl2"
      }
    },
    {
      "cell_type": "code",
      "source": [
        "train_data = pd.read_csv('https://raw.githubusercontent.com/da3gal/ml-casebook/main/machine%20learning/regression/house%20price%20dataset/train_data.csv')\n",
        "test_data = pd.read_csv('https://raw.githubusercontent.com/da3gal/ml-casebook/main/machine%20learning/regression/house%20price%20dataset/public_test_data.csv')"
      ],
      "metadata": {
        "id": "G4VG1LsVraNe"
      },
      "execution_count": null,
      "outputs": []
    },
    {
      "cell_type": "markdown",
      "source": [
        "## 3. Definisi Fungsi Prediksi"
      ],
      "metadata": {
        "id": "U3pkGmmMrijn"
      }
    },
    {
      "cell_type": "code",
      "source": [
        "def prediksi(train_df, test_df):\n",
        "    start_time = time.time()\n",
        "\n",
        "    train_df = train_df[train_df['price'] != 0].reset_index(drop=True)\n",
        "    train_df = train_df.drop(columns=['street'])\n",
        "\n",
        "    for df in [train_df, test_df]:\n",
        "        df['basement_ratio'] = df['sqft_basement'] / df['sqft_living']\n",
        "        df['above_ratio'] = df['sqft_above'] / df['sqft_living']\n",
        "        df['lot_living_ratio'] = df['sqft_lot'] / df['sqft_living']\n",
        "        df['house_age'] = 2024 - df['yr_built']\n",
        "        df['is_renovated'] = (df['yr_renovated'] > 0).astype(int)\n",
        "        df['years_since_renovation'] = 2024 - df['yr_renovated']\n",
        "        df['bathrooms_per_floor'] = df['bathrooms'] / df['floors']\n",
        "        df['bedrooms_per_floor'] = df['bedrooms'] / df['floors']\n",
        "        df['total_rooms'] = df['bedrooms'] + df['bathrooms']\n",
        "        df['zip_code'] = df['statezip'].str.extract('(\\d+)').astype(int)\n",
        "        df['premium_location'] = ((df['waterfront'] == 1) | (df['view'] >= 4)).astype(int)\n",
        "        df['condition_age_factor'] = df['condition'] * df['house_age']\n",
        "        df['view_water_score'] = df['view'] * (df['waterfront'] + 1)\n",
        "        df['price_per_sqft'] = df['price'] / df['sqft_living']\n",
        "        df['total_area'] = df['sqft_living'] + df['sqft_lot']\n",
        "        df['room_density'] = df['total_rooms'] / df['sqft_living']\n",
        "        df['renovation_impact'] = (df['yr_renovated'] - df['yr_built']) * df['is_renovated']\n",
        "        df['zipcode'] = df['statezip'].str.split().str[1]\n",
        "\n",
        "    train_df = train_df.drop(columns=['statezip'])\n",
        "    test_df = test_df.drop(columns=['statezip'])\n",
        "\n",
        "    train_df = pd.get_dummies(train_df, columns=['city'], drop_first=True)\n",
        "    test_df = pd.get_dummies(test_df, columns=['city'], drop_first=True)\n",
        "    test_df = test_df.reindex(columns=train_df.columns, fill_value=0)\n",
        "\n",
        "    X_train = train_df.drop(columns='price')\n",
        "    y_train = train_df['price']\n",
        "    X_test = test_df.drop(columns='price')\n",
        "    y_test = test_df['price']\n",
        "\n",
        "    scaler = MinMaxScaler(feature_range=(0, 1))\n",
        "    X_train_scaled = scaler.fit_transform(X_train)\n",
        "    X_test_scaled = scaler.transform(X_test)\n",
        "\n",
        "    model = GradientBoostingRegressor(random_state=42)\n",
        "    model.fit(X_train_scaled, y_train)\n",
        "    y_pred = model.predict(X_test_scaled)\n",
        "\n",
        "    rmse = np.sqrt(mean_squared_error(y_test, y_pred))\n",
        "\n",
        "    time.sleep(3)\n",
        "    end_time = time.time()\n",
        "    execution_time = end_time - start_time\n",
        "\n",
        "    return {\"execution_time\": execution_time, \"RMSE\": rmse}"
      ],
      "metadata": {
        "id": "qWOVuB9wXxe4"
      },
      "execution_count": null,
      "outputs": []
    },
    {
      "cell_type": "markdown",
      "source": [
        "## 4. Jalankan"
      ],
      "metadata": {
        "id": "IOO2up49trby"
      }
    },
    {
      "cell_type": "code",
      "source": [
        "prediksi(train_data, test_data)"
      ],
      "metadata": {
        "id": "eQlGal8ltuTC",
        "colab": {
          "base_uri": "https://localhost:8080/"
        },
        "outputId": "5dd61366-a784-4522-a23a-a44dfb664742"
      },
      "execution_count": null,
      "outputs": [
        {
          "output_type": "execute_result",
          "data": {
            "text/plain": [
              "{'execution_time': 4.704028844833374, 'RMSE': 38271.8273480759}"
            ]
          },
          "metadata": {},
          "execution_count": 5
        }
      ]
    }
  ]
}